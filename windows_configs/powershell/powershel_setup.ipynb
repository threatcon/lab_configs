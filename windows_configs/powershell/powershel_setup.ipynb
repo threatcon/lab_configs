{
    "metadata": {
        "kernelspec": {
            "name": "powershell",
            "display_name": "PowerShell",
            "language": "powershell"
        },
        "language_info": {
            "name": "powershell",
            "codemirror_mode": "shell",
            "mimetype": "text/x-sh",
            "file_extension": ".ps1"
        }
    },
    "nbformat_minor": 2,
    "nbformat": 4,
    "cells": [
        {
            "cell_type": "markdown",
            "source": [
                "Adding stuff to path"
            ],
            "metadata": {
                "azdata_cell_guid": "7db08a27-0e16-444e-97d8-de0dddcc87af"
            },
            "attachments": {}
        },
        {
            "cell_type": "code",
            "source": [
                "#$env:Path                             # shows the actual content\r\n",
                "#$env:Path = 'C:\\foo;' + $env:Path     # attach to the beginning\r\n",
                "$env:Path += ';C:\\Windows\\SysNative\\OpenSSH'                # attach to the end"
            ],
            "metadata": {
                "azdata_cell_guid": "026b5e75-149f-4efd-a3a7-46ad17a2af8e",
                "language": "powershell"
            },
            "outputs": [],
            "execution_count": null
        },
        {
            "cell_type": "markdown",
            "source": [
                "Initial Powershell setup.\r\n",
                "\r\n",
                "1. Allow unsigned for current user"
            ],
            "metadata": {
                "azdata_cell_guid": "2f7b75a0-4a42-49e7-8884-41af6c71f340"
            },
            "attachments": {}
        },
        {
            "cell_type": "code",
            "source": [
                "Set-ExecutionPolicy -Scope CurrentUser -ExecutionPolicy Unrestricted -Force;\r\n",
                "Get-ExecutionPolicy"
            ],
            "metadata": {
                "azdata_cell_guid": "13e7ac5b-1819-4f07-8047-6a913d1f87f9",
                "language": "powershell",
                "tags": []
            },
            "outputs": [
                {
                    "name": "stdout",
                    "text": "Unrestricted\n. {\n>> Set-ExecutionPolicy -Scope CurrentUser -ExecutionPolicy Unrestricted -Force;\n>> Get-ExecutionPolicy\n>> }\n>> \nUnrestricted\n",
                    "output_type": "stream"
                }
            ],
            "execution_count": 2
        },
        {
            "cell_type": "markdown",
            "source": [
                "Configure SSH\r\n",
                "1. Check for existing key"
            ],
            "metadata": {
                "azdata_cell_guid": "dbd24f17-a57e-4dba-a1a5-ae38f77cf625"
            },
            "attachments": {}
        },
        {
            "cell_type": "code",
            "source": [
                "Get-ChildItem $Home/.ssh"
            ],
            "metadata": {
                "azdata_cell_guid": "88ecc4dd-cb22-4a9f-b55d-8c3bb72eb0d5",
                "language": "powershell"
            },
            "outputs": [
                {
                    "name": "stdout",
                    "text": "\n\n    Directory: C:\\Users\\otek\\.ssh\n\n\nMode                 LastWriteTime         Length Name                                                                 \n----                 -------------         ------ ----                                                                 \n-a----         5/11/2024  12:06 PM           2610 id_rsa                                                               \n-a----         5/11/2024  12:06 PM            575 id_rsa.pub                                                           \n\n\n",
                    "output_type": "stream"
                }
            ],
            "execution_count": 15
        },
        {
            "cell_type": "markdown",
            "source": [
                "2. Create new key if needed"
            ],
            "metadata": {
                "language": "powershell",
                "azdata_cell_guid": "f67bff71-36d1-49cc-92eb-8864180154dd"
            },
            "attachments": {}
        },
        {
            "cell_type": "code",
            "source": [
                "ssh-keygen -t rsa -b 3072 -f $HOME/.ssh/id_rsa -q -N '\"\"'"
            ],
            "metadata": {
                "language": "powershell",
                "azdata_cell_guid": "4031419c-a01d-4057-b345-15c810dba2e8"
            },
            "outputs": [
                {
                    "name": "stdout",
                    "text": "",
                    "output_type": "stream"
                }
            ],
            "execution_count": 14
        },
        {
            "cell_type": "markdown",
            "source": [
                "3. Check for new ssh key"
            ],
            "metadata": {
                "language": "powershell",
                "azdata_cell_guid": "1a63457b-74ef-453d-beef-b994f270121a"
            },
            "attachments": {}
        },
        {
            "cell_type": "code",
            "source": [
                "Get-ChildItem $Home/.ssh"
            ],
            "metadata": {
                "language": "powershell",
                "azdata_cell_guid": "c793a068-8aea-4a79-bee4-490c1380bb8e"
            },
            "outputs": [
{
    "name": "stdout",
    "text": "\n\n    Directory: C:\\Users\\otek\\.ssh\n\n\nMode                 LastWriteTime         Length Name                                                                 \n----                 -------------         ------ ----                                                                 \n-a----         5/11/2024  12:06 PM           2610 id_rsa                                                               \n-a----         5/11/2024  12:06 PM            575 id_rsa.pub                                                           \n\n\n",
    "output_type": "stream"
}
],
            "execution_count": 16
        },
        {
            "cell_type": "markdown",
            "source": [
                "3. Load key to ssh hosts"
            ],
            "metadata": {
                "azdata_cell_guid": "e30eba7c-d060-40a1-8016-d2caaa776039"
            },
            "attachments": {}
        },
        {
            "cell_type": "markdown",
            "source": [
                "4. Create powershell profile"
            ],
            "metadata": {
                "azdata_cell_guid": "7ba97b1f-f8ad-49a8-9768-1cd4d58ec9af"
            },
            "attachments": {}
        },
        {
            "cell_type": "markdown",
            "source": [
                "5. Instsall Oh MY POSH!"
            ],
            "metadata": {
                "azdata_cell_guid": "8c9adf45-f71e-4e5d-9c9a-bab5f4e6d685"
            },
            "attachments": {}
        }
    ]
}